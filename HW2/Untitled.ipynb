{
 "cells": [
  {
   "cell_type": "code",
   "execution_count": null,
   "metadata": {},
   "outputs": [],
   "source": [
    "import numpy as np\n",
    "import flopy\n",
    "import matplotlib.pyplot as plt\n",
    "import flopy.utils.binaryfile as bf"
   ]
  },
  {
   "cell_type": "code",
   "execution_count": null,
   "metadata": {},
   "outputs": [],
   "source": [
    "#mf = flopy.modflow.Modflow(\"BoxModel_Manual_update\", exe_name=\"mf2005\")"
   ]
  },
  {
   "cell_type": "code",
   "execution_count": null,
   "metadata": {},
   "outputs": [],
   "source": [
    "headobj = flopy.bf.HeadFile('BoxModel_Manual_update.hds') #Get head values for simple steady state model\n",
    "headobj.list_records() #shows records that are available\n",
    "h = headobj.get_alldata() #Creates an array (ntimes, nlay, nrow, ncol)\n",
    "print(type(h))\n",
    "#print(h)\n",
    "h2 = headobj.get_data(totim=1, mflay=0) #Creates array (nrow, ncol)\n",
    "print(type(h2))\n",
    "#print(h2.dtype)\n",
    "print (h[0,0,0,:]) #print heads for 1st row, all columns\n",
    "print (h2[0,:]) #print heads for 1st row, all columns"
   ]
  },
  {
   "cell_type": "code",
   "execution_count": null,
   "metadata": {},
   "outputs": [],
   "source": [
    "#hds = bf.HeadFile(\"BoxModel_Manual_updated\" + \".hds\")\n",
    "#head = hds.get_data(totim=1.0)"
   ]
  },
  {
   "cell_type": "code",
   "execution_count": null,
   "metadata": {},
   "outputs": [],
   "source": [
    "nrow = 25 #number of rows\n",
    "ncol = 25 #number of columns\n",
    "nlay = 1  #number of layers\n",
    "\n",
    "dx= 100 #width of grid cells in x diretion \n",
    "dy= 100 #width of grid cells in y diretion \n",
    "\n",
    "Lx = ncol*dx  #width of domain in x\n",
    "Ly = nrow*dy #width of domain in y\n",
    "ztop = 60.    #top elevation \n",
    "zbot = 0.     #bottom elevation\n",
    "\n",
    "dz = (ztop - zbot) / nlay #cell height in z direction\n",
    "\n"
   ]
  },
  {
   "cell_type": "code",
   "execution_count": null,
   "metadata": {},
   "outputs": [],
   "source": [
    "extent = (dx/2.0, Lx-dx/2.0, Ly-dy/2.0, dy/2.0)\n",
    "fig = plt.figure(figsize=(6,6))\n",
    "ax = fig.add_subplot(1,1,1, aspect=\"equal\")\n",
    "ax.contour(h2[0,:], levels=np.arange(1,10,1), extent=extent)\n"
   ]
  },
  {
   "cell_type": "code",
   "execution_count": null,
   "metadata": {},
   "outputs": [],
   "source": [
    "'''hds = bf.HeadFile(\"BoxModel_Manual_update\" + \".hds\")\n",
    "times = hds.get_times()\n",
    "head = hds.get_data(totim=times[-1])'''"
   ]
  },
  {
   "cell_type": "code",
   "execution_count": null,
   "metadata": {},
   "outputs": [],
   "source": [
    "'''cbb = bf.CellBudgetFile(\"BoxModel_Manual_update\" + \".cbc\")\n",
    "kstpkper_list = cbb.get_kstpkper()\n",
    "frf = cbb.get_data(text=\"FLOW RIGHT FACE\", totim=times[-1])[0]\n",
    "fff = cbb.get_data(text=\"FLOW FRONT FACE\", totim=times[-1])[0]'''\n"
   ]
  },
  {
   "cell_type": "code",
   "execution_count": null,
   "metadata": {},
   "outputs": [],
   "source": [
    "'''fig = plt.figure(figsize=(6, 6))\n",
    "ax = fig.add_subplot(1, 1, 1, aspect=\"equal\")\n",
    "modelmap = flopy.plot.PlotMapView(model=mf, layer=0, ax=ax)\n",
    "qm = modelmap.plot_ibound()\n",
    "lc = modelmap.plot_grid()\n",
    "cs = modelmap.contour_array(head, levels=np.linspace(0, 10, 11))\n",
    "quiver = modelmap.plot_discharge(frf, fff, head=head)'''\n"
   ]
  },
  {
   "cell_type": "code",
   "execution_count": null,
   "metadata": {},
   "outputs": [],
   "source": []
  }
 ],
 "metadata": {
  "kernelspec": {
   "display_name": "Python 3",
   "language": "python",
   "name": "python3"
  },
  "language_info": {
   "codemirror_mode": {
    "name": "ipython",
    "version": 3
   },
   "file_extension": ".py",
   "mimetype": "text/x-python",
   "name": "python",
   "nbconvert_exporter": "python",
   "pygments_lexer": "ipython3",
   "version": "3.8.5"
  }
 },
 "nbformat": 4,
 "nbformat_minor": 4
}
