{
 "cells": [
  {
   "cell_type": "markdown",
   "id": "limited-winning",
   "metadata": {},
   "source": [
    "# The Challenge #2"
   ]
  },
  {
   "cell_type": "markdown",
   "id": "flying-turning",
   "metadata": {},
   "source": [
    "#### Dalia Portillo"
   ]
  },
  {
   "cell_type": "markdown",
   "id": "beautiful-advice",
   "metadata": {},
   "source": [
    "### 1. Show based on flux with horizontal distance to constant head boundaries that the model is steady state. Calculcate flux at each point. Heads at center of each cell and K defined over each cell.\n",
    "\n",
    "![HomogeneousModel](contour.jpg)\n",
    "\n",
    "*Figure 1 Steady State Homogeneous Model*\n",
    "\n",
    "\n",
    "![Fluxinsys](flux_1.jpg)\n",
    "\n",
    "*Figure 2 Flux in and out each node/cell*\n",
    "\n",
    "In Figure 2 we see a constant flux in and out of each cell. With the exception of some outliers, q is constant with distance from the constant head boundaries.\n"
   ]
  },
  {
   "cell_type": "markdown",
   "id": "cordless-jewelry",
   "metadata": {},
   "source": [
    "### 2. Show the steady state head contour in plan view for the heterogeneous (zones in series) condition. Use this plot to defend a contention that flow is 1D. Then, drawing on your Excel assignment, use the results to explain WHY the equivalent hydraulic conductivity, Keq, is closer to the lower of the two K values.\n",
    "\n",
    "![HeterogeneousLayers](layer_in_series.jpg)\n",
    "\n",
    "*Figure 2 The Heterogenous Model should look like this with layers in series*\n",
    "\n",
    "\n",
    "![HeterogeneousModel](contourheterogen.jpg)\n",
    "\n",
    "*Figure 3 Steady State Heterogeneous Model*\n",
    "\n",
    "Figure 3 displays the Head Contours as a result of manually changing the hydrauic conductivity values for the Box Model. We know that flow is always perpendicular to equipotential lines, or head contours. Knowing this, we should be able to draw a straightline across the graph. We won't see any changes in flow direction, thus we can assume flow is 1D horizontal."
   ]
  },
  {
   "cell_type": "markdown",
   "id": "alone-bottle",
   "metadata": {},
   "source": [
    "Since the model is a box made up of 25x25 cells, I will assume the thickness b = 25, we should be able to solve for a Keq:"
   ]
  },
  {
   "cell_type": "code",
   "execution_count": 5,
   "id": "novel-mills",
   "metadata": {},
   "outputs": [
    {
     "name": "stdout",
     "output_type": "stream",
     "text": [
      "0.9259259259259259 m/d\n"
     ]
    }
   ],
   "source": [
    "b =25\n",
    "la=3\n",
    "lb=18\n",
    "lc=4\n",
    "k1=3 #m/d\n",
    "k2=1 #m/d\n",
    "k3=0.5 #m/d\n",
    "\n",
    "Keq= b/((la/k1)+(lb/k2)+(lc/k3)) #m/d\n",
    "print(str(Keq) +\" m/d\")"
   ]
  },
  {
   "cell_type": "markdown",
   "id": "divine-terrorist",
   "metadata": {},
   "source": [
    "$ K =\\large \\frac{b}{\\frac{la}{k1}+\\frac{lb}{k2}+\\frac{lc}{k3}} = \\frac{25}{\\frac{3}{3}+\\frac{18}{1}+\\frac{4}{0.5}}$\n",
    "\n",
    "$ K = 0.925$"
   ]
  },
  {
   "cell_type": "markdown",
   "id": "average-cleaners",
   "metadata": {},
   "source": [
    "Again, the Keq is closer to the lower K (K3=0.5 m/d) because the head gradient gets steeper and the energy required to move through the new K is 'dissipated'. A lower K can indicate a lower porosity and smaller area for which water/fluids can flow through. Smaller area requires a higher velocity of flow to move through it if the mass flux is to remain constant. "
   ]
  },
  {
   "cell_type": "markdown",
   "id": "strong-massachusetts",
   "metadata": {},
   "source": [
    "### 3. Build a model based on a homogeneous domain with a square region of lower K in the middle of the domain. What can you learn based on your explanation of what controls the effective K for a 1D flow system now that you are applying it to a 2D system? What do you think the Keq of this entire system would be compared to the high and low K values? Explain why it is much more difficult to develop a direct solution for this 2D system than it was for a 1D system (including the zones placed in series)\n",
    "\n",
    "![HeterogeneousInclusiveModel](contourinclusive.jpg)\n",
    "\n",
    "*Figure 4 Heterogenous Model with inclusive low K values of 0.5 m/d within rows 11-15 and columns 11-15*\n"
   ]
  },
  {
   "cell_type": "markdown",
   "id": "ahead-pursuit",
   "metadata": {},
   "source": [
    "The effective K can be applied to both the x and y directions - making it 2D. If flow is moving left to right, columns 23-25 won't respond the same as columns 1-4. This is because each cell responds to its neighboring cells. If the medium contains the same K value but has a small section in the center with a low K, then the energy required to flow through the entire medium will be directed towards this center section of low K. A Keq won't compltely represent the system now that a small part of the medium requires all the energy to push through. If the inclusive area is small enough, the Keq might neglect this low K region. If the inclusive area is large enough, then the medium may just be three layers in series and Keq will likely be equal to this inclusive layer in the center which doesn't necessarily represent the entire medium."
   ]
  }
 ],
 "metadata": {
  "kernelspec": {
   "display_name": "Python 3",
   "language": "python",
   "name": "python3"
  },
  "language_info": {
   "codemirror_mode": {
    "name": "ipython",
    "version": 3
   },
   "file_extension": ".py",
   "mimetype": "text/x-python",
   "name": "python",
   "nbconvert_exporter": "python",
   "pygments_lexer": "ipython3",
   "version": "3.8.5"
  }
 },
 "nbformat": 4,
 "nbformat_minor": 5
}
