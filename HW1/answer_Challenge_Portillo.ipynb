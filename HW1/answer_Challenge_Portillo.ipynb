{
 "cells": [
  {
   "cell_type": "markdown",
   "metadata": {},
   "source": [
    "# The Challenge #1"
   ]
  },
  {
   "cell_type": "markdown",
   "metadata": {},
   "source": [
    "#### Dalia Portillo"
   ]
  },
  {
   "cell_type": "markdown",
   "metadata": {},
   "source": [
    "### 1. Steady state describes a constant head gradient - in other words, there is no change in the system with time and the flux in is equal to the flux out.\n",
    "\n",
    "![HomogeneousModel](homogenous.jpg)\n",
    "\n",
    "*Figure 1 Steady State Homogeneous Model*\n",
    "\n",
    "![HeterogeneousModel](heterogenenous.jpg)\n",
    "\n",
    "*Figure 2 Steady State Heterogeneous Model*"
   ]
  },
  {
   "cell_type": "markdown",
   "metadata": {},
   "source": [
    "### 2. Show that the steady state flux agrees with the direct calculation based on the harmonic mean average K. Write the equation defining the direct calculation of the flux.\n",
    "\n",
    "\n",
    "$K =\\large \\frac{L_tot}{\\frac{l_a}{K_a}+\\frac{l_b}{K_b}+\\frac{l_c}{K_c}}$\n",
    "\n",
    "$K =\\large \\frac{60}{\\frac{60-20}{0.0004}+\\frac{20}{0.01}+\\frac{0}{0.0001}} = \\normalsize 0.00058$\n",
    "\n",
    "$q =\\normalsize K* \\frac{dH}{dz} = 0.00058*\\frac{60-5}{60}=0.00051$"
   ]
  },
  {
   "cell_type": "markdown",
   "metadata": {},
   "source": [
    "Using Figure 2 above, we see that the flux q can be calculated using the Harmonic Mean\n",
    "Average equation. The values are very close but not exactly the same because I used the z elevation as the lengths of the each layer rather than the number of cells. Below I compare the equations using the number of cells occupied by the layer. And lo and behold, the values are exact!"
   ]
  },
  {
   "cell_type": "code",
   "execution_count": 1,
   "metadata": {},
   "outputs": [],
   "source": [
    "lyr1 = 8.5\n",
    "lyr2 = 3.5\n",
    "lyr3 = 0\n",
    "k1 = 0.0004\n",
    "k2 = 0.01\n",
    "k3 = 0.0001\n",
    "L_tot = lyr1 + lyr2 + lyr3"
   ]
  },
  {
   "cell_type": "code",
   "execution_count": 2,
   "metadata": {},
   "outputs": [],
   "source": [
    "K = L_tot/((lyr1/k1)+(lyr2/k2)+(lyr3/k3))"
   ]
  },
  {
   "cell_type": "code",
   "execution_count": 3,
   "metadata": {},
   "outputs": [
    {
     "name": "stdout",
     "output_type": "stream",
     "text": [
      "0.0005555555555555556\n"
     ]
    }
   ],
   "source": [
    "print(K)"
   ]
  },
  {
   "cell_type": "code",
   "execution_count": 4,
   "metadata": {},
   "outputs": [
    {
     "name": "stdout",
     "output_type": "stream",
     "text": [
      "0.0005092592592592592\n"
     ]
    }
   ],
   "source": [
    "q = K*((60-5)/60)\n",
    "print(q)"
   ]
  },
  {
   "cell_type": "markdown",
   "metadata": {},
   "source": [
    "$K =\\large \\frac{8.5 + 3.5}{\\frac{8.5}{0.0004}+\\frac{3.5}{0.01}+\\frac{0}{0.0001}} = \\normalsize 0.0005556$\n",
    "\n",
    "$q =\\normalsize K* \\frac{dH}{dz} = 0.0005556*\\frac{60-5}{60}=0.000509$"
   ]
  },
  {
   "cell_type": "markdown",
   "metadata": {},
   "source": [
    "### 3. Show the steady state head profile for an aquifer with equal thickness layers that have different K values. Use the head profile to explain WHY the equivalent hydraulic conductivity, Keq, is closer to the lower of the two K values.\n",
    "\n",
    "![LayeredModel](layeredModel.jpg)\n",
    "\n",
    "*Figure 3 Steady State with equal thickness layers*\n",
    "\n",
    "The equivalent hydraulic conductivity takes the harmonic average for a soil column in which flow is perpendicular to the layers. Because Keq is the average value over the entire soil column, Keq is smaller to represent the flow in the slowest zone/layer. Well why does this happen? We can argue that as water flows from a higher permeable layer to a lower permeable layer, the amount of energy used to push the flow through a much tortuous flow path is greater than the energy required to flow through a highly porous material. We see the slope of the head gradient is steep in the middle and at the top while the lowest part of the graph displays a much shallower slope. These sharp changes in gradient is related to the amount of energy released which is related the relative K for each layer.\n"
   ]
  }
 ],
 "metadata": {
  "kernelspec": {
   "display_name": "Python 3",
   "language": "python",
   "name": "python3"
  },
  "language_info": {
   "codemirror_mode": {
    "name": "ipython",
    "version": 3
   },
   "file_extension": ".py",
   "mimetype": "text/x-python",
   "name": "python",
   "nbconvert_exporter": "python",
   "pygments_lexer": "ipython3",
   "version": "3.8.5"
  }
 },
 "nbformat": 4,
 "nbformat_minor": 4
}
